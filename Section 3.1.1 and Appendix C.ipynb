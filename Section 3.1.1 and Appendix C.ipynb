{
 "cells": [
  {
   "cell_type": "code",
   "execution_count": 1,
   "metadata": {},
   "outputs": [],
   "source": [
    "%load_ext autoreload\n",
    "%autoreload 2"
   ]
  },
  {
   "cell_type": "code",
   "execution_count": 2,
   "metadata": {},
   "outputs": [
    {
     "name": "stderr",
     "output_type": "stream",
     "text": [
      "C:\\Users\\rautj\\Anaconda3\\lib\\site-packages\\numpy\\_distributor_init.py:32: UserWarning: loaded more than 1 DLL from .libs:\n",
      "C:\\Users\\rautj\\Anaconda3\\lib\\site-packages\\numpy\\.libs\\libopenblas.NOIJJG62EMASZI6NYURL6JBKM4EVBGM7.gfortran-win_amd64.dll\n",
      "C:\\Users\\rautj\\Anaconda3\\lib\\site-packages\\numpy\\.libs\\libopenblas.XWYDX2IKJW2NMTWSFYNGFUWKQU3LYTCZ.gfortran-win_amd64.dll\n",
      "  stacklevel=1)\n"
     ]
    }
   ],
   "source": [
    "import numpy as np\n",
    "np.set_printoptions(linewidth=np.inf)\n",
    "import sympy as sp\n",
    "import scipy as sc\n",
    "from scipy import integrate,signal,stats,io\n",
    "from sklearn.linear_model import Lasso,ridge_regression\n",
    "from sklearn.utils.extmath import weighted_mode\n",
    "\n",
    "from matplotlib import pyplot as plt\n",
    "from mpl_toolkits import mplot3d\n",
    "%matplotlib inline\n",
    "\n",
    "import pysindy as ps\n",
    "\n",
    "from tqdm import tqdm,tnrange\n",
    "\n",
    "import copy\n",
    "\n",
    "from matplotlib import cm\n",
    "from matplotlib.colors import ListedColormap, LinearSegmentedColormap"
   ]
  },
  {
   "cell_type": "code",
   "execution_count": 3,
   "metadata": {},
   "outputs": [],
   "source": [
    "from sindy_functions import *\n",
    "from systems import *"
   ]
  },
  {
   "cell_type": "code",
   "execution_count": 4,
   "metadata": {},
   "outputs": [],
   "source": [
    "sigma = 0.2  # Standard deviation.\n",
    "mu = 10  # Mean.\n",
    "tau = .5  # Time constant."
   ]
  },
  {
   "cell_type": "code",
   "execution_count": 5,
   "metadata": {},
   "outputs": [],
   "source": [
    "dt = .001  # Time step.\n",
    "T = 5.  # Total time.\n",
    "n = int(T / dt)  # Number of time steps.\n",
    "t = np.linspace(0., T, n)  # Vector of times.\n",
    "t=t[::10]"
   ]
  },
  {
   "cell_type": "code",
   "execution_count": 6,
   "metadata": {},
   "outputs": [],
   "source": [
    "sigma_bis = sigma * np.sqrt(2. / tau)\n",
    "sqrtdt = np.sqrt(dt)"
   ]
  },
  {
   "cell_type": "code",
   "execution_count": 7,
   "metadata": {},
   "outputs": [],
   "source": [
    "xd = np.zeros(n)\n",
    "\n",
    "for i in range(n - 1):\n",
    "    xd[i + 1] = xd[i] + dt * (-(xd[i] - mu) / tau)\n",
    "\n",
    "xd=xd[::10]"
   ]
  },
  {
   "cell_type": "code",
   "execution_count": 8,
   "metadata": {},
   "outputs": [],
   "source": [
    "ninst=1000"
   ]
  },
  {
   "cell_type": "code",
   "execution_count": 9,
   "metadata": {},
   "outputs": [],
   "source": [
    "xs=np.loadtxt('1Ddatagaus.csv',delimiter=\",\")[:ninst]"
   ]
  },
  {
   "cell_type": "code",
   "execution_count": 10,
   "metadata": {},
   "outputs": [
    {
     "data": {
      "text/plain": [
       "array([[19.87682058],\n",
       "       [-1.98582046]])"
      ]
     },
     "execution_count": 10,
     "metadata": {},
     "output_type": "execute_result"
    }
   ],
   "source": [
    "mc=SINDy(polypool(xs.reshape(-1,1),1),np.gradient(xs,10*dt,axis=1).reshape(-1,1),0,reg=1e-16)\n",
    "mc"
   ]
  },
  {
   "cell_type": "code",
   "execution_count": 11,
   "metadata": {},
   "outputs": [
    {
     "data": {
      "image/png": "[encoded data removed]",
      "text/plain": [
       "<Figure size 432x288 with 1 Axes>"
      ]
     },
     "metadata": {
      "needs_background": "light"
     },
     "output_type": "display_data"
    }
   ],
   "source": [
    "perr=polypool(xs.reshape(-1,1),1)@np.array([[20],[-2]])-np.gradient(xs,10*dt,axis=1).reshape(-1,1)\n",
    "plt.hist(perr,bins=50,density=True)\n",
    "plt.show()"
   ]
  },
  {
   "cell_type": "code",
   "execution_count": 12,
   "metadata": {},
   "outputs": [
    {
     "data": {
      "text/plain": [
       "0.12419012169303358"
      ]
     },
     "execution_count": 12,
     "metadata": {},
     "output_type": "execute_result"
    }
   ],
   "source": [
    "1/np.std(perr)**2"
   ]
  },
  {
   "cell_type": "code",
   "execution_count": 13,
   "metadata": {},
   "outputs": [
    {
     "data": {
      "text/plain": [
       "[<matplotlib.lines.Line2D at 0x23e21952108>]"
      ]
     },
     "execution_count": 13,
     "metadata": {},
     "output_type": "execute_result"
    },
    {
     "data": {
      "image/png": "[encoded data removed]",
      "text/plain": [
       "<Figure size 432x288 with 1 Axes>"
      ]
     },
     "metadata": {
      "needs_background": "light"
     },
     "output_type": "display_data"
    }
   ],
   "source": [
    "plt.plot(np.gradient(xs,10*dt,axis=1).reshape(-1,1))"
   ]
  },
  {
   "cell_type": "code",
   "execution_count": null,
   "metadata": {},
   "outputs": [],
   "source": []
  },
  {
   "cell_type": "code",
   "execution_count": null,
   "metadata": {},
   "outputs": [],
   "source": []
  },
  {
   "cell_type": "code",
   "execution_count": null,
   "metadata": {},
   "outputs": [],
   "source": []
  },
  {
   "cell_type": "code",
   "execution_count": null,
   "metadata": {},
   "outputs": [],
   "source": []
  },
  {
   "cell_type": "code",
   "execution_count": null,
   "metadata": {},
   "outputs": [],
   "source": []
  },
  {
   "cell_type": "code",
   "execution_count": null,
   "metadata": {},
   "outputs": [],
   "source": []
  },
  {
   "cell_type": "code",
   "execution_count": null,
   "metadata": {},
   "outputs": [],
   "source": []
  },
  {
   "cell_type": "code",
   "execution_count": 36,
   "metadata": {},
   "outputs": [],
   "source": [
    "ninst=10000\n",
    "xs=np.loadtxt('1Ddatagaus.csv',delimiter=\",\")"
   ]
  },
  {
   "cell_type": "code",
   "execution_count": null,
   "metadata": {},
   "outputs": [],
   "source": [
    "# MC and BLR CP estimates"
   ]
  },
  {
   "cell_type": "code",
   "execution_count": 37,
   "metadata": {},
   "outputs": [
    {
     "name": "stderr",
     "output_type": "stream",
     "text": [
      "C:\\Users\\rautj\\Anaconda3\\lib\\site-packages\\ipykernel_launcher.py:4: TqdmDeprecationWarning: Please use `tqdm.notebook.trange` instead of `tqdm.tnrange`\n",
      "  after removing the cwd from sys.path.\n"
     ]
    },
    {
     "data": {
      "application/vnd.jupyter.widget-view+json": {
       "model_id": "c5a421154123409da4f0669398c27fa0",
       "version_major": 2,
       "version_minor": 0
      },
      "text/plain": [
       "  0%|          | 0/10000 [00:00<?, ?it/s]"
      ]
     },
     "metadata": {},
     "output_type": "display_data"
    },
    {
     "name": "stdout",
     "output_type": "stream",
     "text": [
      "[[ 1.09031173 -1.00522983]]\n",
      "\n",
      "[[ 1.53877369]\n",
      " [-1.41688567]]\n"
     ]
    }
   ],
   "source": [
    "deg=1\n",
    "thres=0\n",
    "mcs=[]\n",
    "for i in tnrange(ninst):\n",
    "    mc=SINDy(polypool(xs[i][:].reshape(-1,1),deg),np.gradient(xs[i][:],10*dt).reshape(-1,1),thres,reg=0).T\n",
    "    mcs.append(np.copy(mc))\n",
    "\n",
    "print(np.average(mcs,axis=0)/np.std(mcs,axis=0)/np.sqrt(500))\n",
    "print()\n",
    "mc,icv=SINDyCV_t(polypool(xs.reshape(-1,1),deg),np.gradient(xs,10*dt,axis=1).reshape(-1,1),thres,1e-16,1e-16,0.0,1,ptf=0.0,normalise='auto',reticv=True)\n",
    "#print(mc)\n",
    "#print()\n",
    "print(icv)\n",
    "#print()\n",
    "#print(mc/icv)\n",
    "#print()\n",
    "#print((mc/icv).T/np.std(mcs,axis=0))"
   ]
  },
  {
   "cell_type": "code",
   "execution_count": 38,
   "metadata": {},
   "outputs": [
    {
     "name": "stderr",
     "output_type": "stream",
     "text": [
      "C:\\Users\\rautj\\Anaconda3\\lib\\site-packages\\ipykernel_launcher.py:4: TqdmDeprecationWarning: Please use `tqdm.notebook.trange` instead of `tqdm.tnrange`\n",
      "  after removing the cwd from sys.path.\n"
     ]
    },
    {
     "data": {
      "application/vnd.jupyter.widget-view+json": {
       "model_id": "79084dc0c6d949e88650fd0741c16759",
       "version_major": 2,
       "version_minor": 0
      },
      "text/plain": [
       "  0%|          | 0/10000 [00:00<?, ?it/s]"
      ]
     },
     "metadata": {},
     "output_type": "display_data"
    },
    {
     "name": "stdout",
     "output_type": "stream",
     "text": [
      "[[ 0.65240222 -0.20683513  0.0141488 ]]\n",
      "\n",
      "[[ 0.9518673 ]\n",
      " [-0.30265568]\n",
      " [ 0.02809516]]\n"
     ]
    }
   ],
   "source": [
    "deg=2\n",
    "thres=0\n",
    "mcs=[]\n",
    "for i in tnrange(ninst):\n",
    "    mc=SINDy(polypool(xs[i][:].reshape(-1,1),deg),np.gradient(xs[i][:],10*dt).reshape(-1,1),thres,reg=0).T\n",
    "    mcs.append(np.copy(mc))\n",
    "\n",
    "print(np.average(mcs,axis=0)/np.std(mcs,axis=0)/np.sqrt(500))\n",
    "print()\n",
    "mc,icv=SINDyCV_t(polypool(xs.reshape(-1,1),deg),np.gradient(xs,10*dt,axis=1).reshape(-1,1),thres,1e-16,1e-16,0.0,1,ptf=0.0,normalise='auto',reticv=True)\n",
    "#print(mc)\n",
    "#print()\n",
    "print(icv)\n",
    "#print()\n",
    "#print(mc/icv)\n",
    "#print()\n",
    "#print((mc/icv).T/np.std(mcs,axis=0))"
   ]
  },
  {
   "cell_type": "code",
   "execution_count": 39,
   "metadata": {},
   "outputs": [
    {
     "name": "stderr",
     "output_type": "stream",
     "text": [
      "C:\\Users\\rautj\\Anaconda3\\lib\\site-packages\\ipykernel_launcher.py:4: TqdmDeprecationWarning: Please use `tqdm.notebook.trange` instead of `tqdm.tnrange`\n",
      "  after removing the cwd from sys.path.\n"
     ]
    },
    {
     "data": {
      "application/vnd.jupyter.widget-view+json": {
       "model_id": "3a42a663d2b94db0a705364202cc0c3f",
       "version_major": 2,
       "version_minor": 0
      },
      "text/plain": [
       "  0%|          | 0/10000 [00:00<?, ?it/s]"
      ]
     },
     "metadata": {},
     "output_type": "display_data"
    },
    {
     "name": "stdout",
     "output_type": "stream",
     "text": [
      "[[ 0.45509097 -0.05390404 -0.02046103  0.02314089]]\n",
      "\n",
      "[[ 0.67013929]\n",
      " [-0.06813617]\n",
      " [-0.04172269]\n",
      " [ 0.04635888]]\n"
     ]
    }
   ],
   "source": [
    "deg=3\n",
    "thres=0\n",
    "mcs=[]\n",
    "for i in tnrange(ninst):\n",
    "    mc=SINDy(polypool(xs[i][:].reshape(-1,1),deg),np.gradient(xs[i][:],10*dt).reshape(-1,1),thres,reg=0).T\n",
    "    mcs.append(np.copy(mc))\n",
    "\n",
    "print(np.average(mcs,axis=0)/np.std(mcs,axis=0)/np.sqrt(500))\n",
    "print()\n",
    "mc,icv=SINDyCV_t(polypool(xs.reshape(-1,1),deg),np.gradient(xs,10*dt,axis=1).reshape(-1,1),thres,1e-16,1e-16,0.0,1,ptf=0.0,normalise='auto',reticv=True)\n",
    "#print(mc)\n",
    "#print()\n",
    "print(icv)\n",
    "#print()\n",
    "#print(mc/icv)\n",
    "#print()\n",
    "#print((mc/icv).T/np.std(mcs,axis=0))"
   ]
  },
  {
   "cell_type": "code",
   "execution_count": 40,
   "metadata": {},
   "outputs": [
    {
     "name": "stderr",
     "output_type": "stream",
     "text": [
      "C:\\Users\\rautj\\Anaconda3\\lib\\site-packages\\ipykernel_launcher.py:4: TqdmDeprecationWarning: Please use `tqdm.notebook.trange` instead of `tqdm.tnrange`\n",
      "  after removing the cwd from sys.path.\n"
     ]
    },
    {
     "data": {
      "application/vnd.jupyter.widget-view+json": {
       "model_id": "02ee325b992e4411be40b1eed266b9ae",
       "version_major": 2,
       "version_minor": 0
      },
      "text/plain": [
       "  0%|          | 0/10000 [00:00<?, ?it/s]"
      ]
     },
     "metadata": {},
     "output_type": "display_data"
    },
    {
     "name": "stdout",
     "output_type": "stream",
     "text": [
      "[[ 0.36787904 -0.04696259  0.01898618 -0.02309094  0.026404  ]]\n",
      "\n",
      "[[ 0.57069935]\n",
      " [-0.07460048]\n",
      " [ 0.0345072 ]\n",
      " [-0.04179719]\n",
      " [ 0.04751841]]\n"
     ]
    }
   ],
   "source": [
    "deg=4\n",
    "thres=0\n",
    "mcs=[]\n",
    "for i in tnrange(ninst):\n",
    "    mc=SINDy(polypool(xs[i][:].reshape(-1,1),deg),np.gradient(xs[i][:],10*dt).reshape(-1,1),thres,reg=0).T\n",
    "    mcs.append(np.copy(mc))\n",
    "\n",
    "print(np.average(mcs,axis=0)/np.std(mcs,axis=0)/np.sqrt(500))\n",
    "print()\n",
    "mc,icv=SINDyCV_t(polypool(xs.reshape(-1,1),deg),np.gradient(xs,10*dt,axis=1).reshape(-1,1),thres,1e-16,1e-16,0.0,1,ptf=0.0,normalise='auto',reticv=True)\n",
    "#print(mc)\n",
    "#print()\n",
    "print(icv)\n",
    "#print()\n",
    "#print(mc/icv)\n",
    "#print()\n",
    "#print((mc/icv).T/np.std(mcs,axis=0))"
   ]
  },
  {
   "cell_type": "code",
   "execution_count": 41,
   "metadata": {},
   "outputs": [
    {
     "name": "stderr",
     "output_type": "stream",
     "text": [
      "C:\\Users\\rautj\\Anaconda3\\lib\\site-packages\\ipykernel_launcher.py:4: TqdmDeprecationWarning: Please use `tqdm.notebook.trange` instead of `tqdm.tnrange`\n",
      "  after removing the cwd from sys.path.\n"
     ]
    },
    {
     "data": {
      "application/vnd.jupyter.widget-view+json": {
       "model_id": "69136735264c45709bc95ffc9b11796a",
       "version_major": 2,
       "version_minor": 0
      },
      "text/plain": [
       "  0%|          | 0/10000 [00:00<?, ?it/s]"
      ]
     },
     "metadata": {},
     "output_type": "display_data"
    },
    {
     "name": "stdout",
     "output_type": "stream",
     "text": [
      "[[ 0.29888375 -0.0058113  -0.01740911  0.02139904 -0.02496605  0.02819691]]\n",
      "\n",
      "[[ 0.46529881]\n",
      " [-0.00407574]\n",
      " [-0.03064043]\n",
      " [ 0.03638815]\n",
      " [-0.04157632]\n",
      " [ 0.04627508]]\n"
     ]
    }
   ],
   "source": [
    "deg=5\n",
    "thres=0\n",
    "mcs=[]\n",
    "for i in tnrange(ninst):\n",
    "    mc=SINDy(polypool(xs[i][:].reshape(-1,1),deg),np.gradient(xs[i][:],10*dt).reshape(-1,1),thres,reg=0).T\n",
    "    mcs.append(np.copy(mc))\n",
    "\n",
    "print(np.average(mcs,axis=0)/np.std(mcs,axis=0)/np.sqrt(500))\n",
    "print()\n",
    "mc,icv=SINDyCV_t(polypool(xs.reshape(-1,1),deg),np.gradient(xs,10*dt,axis=1).reshape(-1,1),thres,1e-16,1e-16,0.0,1,ptf=0.0,normalise='auto',reticv=True)\n",
    "#print(mc)\n",
    "#print()\n",
    "print(icv)\n",
    "#print()\n",
    "#print(mc/icv)\n",
    "#print()\n",
    "#print((mc/icv).T/np.std(mcs,axis=0))"
   ]
  },
  {
   "cell_type": "code",
   "execution_count": 80,
   "metadata": {},
   "outputs": [
    {
     "name": "stderr",
     "output_type": "stream",
     "text": [
      "C:\\Users\\rautj\\Anaconda3\\lib\\site-packages\\ipykernel_launcher.py:4: TqdmDeprecationWarning: Please use `tqdm.notebook.trange` instead of `tqdm.tnrange`\n",
      "  after removing the cwd from sys.path.\n"
     ]
    },
    {
     "data": {
      "application/vnd.jupyter.widget-view+json": {
       "model_id": "b770b8a8e7964a41895b9b7883e8e44d",
       "version_major": 2,
       "version_minor": 0
      },
      "text/plain": [
       "  0%|          | 0/10000 [00:00<?, ?it/s]"
      ]
     },
     "metadata": {},
     "output_type": "display_data"
    },
    {
     "name": "stderr",
     "output_type": "stream",
     "text": [
      "C:\\Users\\rautj\\Anaconda3\\lib\\site-packages\\ipykernel_launcher.py:8: RuntimeWarning: invalid value encountered in true_divide\n",
      "  \n"
     ]
    },
    {
     "name": "stdout",
     "output_type": "stream",
     "text": [
      "[[ 0.42226532 -0.04542438  0.00155318 -0.00569178  0.00956884         nan]]\n",
      "\n",
      "[[ 0.9518673 ]\n",
      " [-0.30265568]\n",
      " [ 0.02809516]\n",
      " [ 0.        ]\n",
      " [ 0.        ]\n",
      " [ 0.        ]]\n"
     ]
    }
   ],
   "source": [
    "deg=5\n",
    "thres=0.01\n",
    "mcs=[]\n",
    "for i in tnrange(ninst):\n",
    "    mc=SINDy(polypool(xs[i][:].reshape(-1,1),deg),np.gradient(xs[i][:],10*dt).reshape(-1,1),thres,reg=0).T\n",
    "    mcs.append(np.copy(mc))\n",
    "\n",
    "print(np.average(mcs,axis=0)/np.std(mcs,axis=0)/np.sqrt(500))\n",
    "print()\n",
    "mc,icv=SINDyCV_t(polypool(xs.reshape(-1,1),deg),np.gradient(xs,10*dt,axis=1).reshape(-1,1),thres,1e-16,1e-16,0.0,1,ptf=0.0,normalise='auto',reticv=True)\n",
    "#print(mc)\n",
    "#print()\n",
    "print(icv)\n",
    "#print()\n",
    "#print(mc/icv)\n",
    "#print()\n",
    "#print((mc/icv).T/np.std(mcs,axis=0))"
   ]
  },
  {
   "cell_type": "code",
   "execution_count": 78,
   "metadata": {},
   "outputs": [
    {
     "name": "stderr",
     "output_type": "stream",
     "text": [
      "C:\\Users\\rautj\\Anaconda3\\lib\\site-packages\\ipykernel_launcher.py:4: TqdmDeprecationWarning: Please use `tqdm.notebook.trange` instead of `tqdm.tnrange`\n",
      "  after removing the cwd from sys.path.\n"
     ]
    },
    {
     "data": {
      "application/vnd.jupyter.widget-view+json": {
       "model_id": "0383cc8971b94d719319a29e2574835d",
       "version_major": 2,
       "version_minor": 0
      },
      "text/plain": [
       "  0%|          | 0/10000 [00:00<?, ?it/s]"
      ]
     },
     "metadata": {},
     "output_type": "display_data"
    },
    {
     "name": "stdout",
     "output_type": "stream",
     "text": [
      "[[ 0.65711288 -0.13234478 -0.0636539  -0.02667597  0.01013698  0.04311043]]\n",
      "\n",
      "[[ 0.47913783]\n",
      " [-0.03170438]\n",
      " [ 0.00345953]\n",
      " [-0.00117779]\n",
      " [-0.00206294]\n",
      " [ 0.00566721]]\n"
     ]
    }
   ],
   "source": [
    "deg=5\n",
    "thres=0\n",
    "mcs=[]\n",
    "for i in tnrange(ninst):\n",
    "    mc=SINDy(polypool(xs[i][:].reshape(-1,1),deg),np.gradient(xs[i][:],10*dt).reshape(-1,1),thres,reg=0.05).T\n",
    "    mcs.append(np.copy(mc))\n",
    "\n",
    "print(np.average(mcs,axis=0)/np.std(mcs,axis=0)/np.sqrt(500))\n",
    "print()\n",
    "mc,icv=SINDyCV_t(polypool(xs.reshape(-1,1),deg),np.gradient(xs,10*dt,axis=1).reshape(-1,1),thres,10,10,0.0,1,ptf=0.0,normalise='auto',reticv=True)\n",
    "#print(mc)\n",
    "#print()\n",
    "print(icv)\n",
    "#print()\n",
    "#print(mc/icv)\n",
    "#print()\n",
    "#print((mc/icv).T/np.std(mcs,axis=0))"
   ]
  },
  {
   "cell_type": "code",
   "execution_count": 140,
   "metadata": {},
   "outputs": [
    {
     "data": {
      "text/plain": [
       "1.0000000000065512e-05"
      ]
     },
     "execution_count": 140,
     "metadata": {},
     "output_type": "execute_result"
    }
   ],
   "source": [
    "(1+1e-5)-1"
   ]
  },
  {
   "cell_type": "code",
   "execution_count": 45,
   "metadata": {},
   "outputs": [],
   "source": [
    "#SINDy?"
   ]
  },
  {
   "cell_type": "code",
   "execution_count": 54,
   "metadata": {},
   "outputs": [],
   "source": [
    "#SINDyCV_t?"
   ]
  },
  {
   "cell_type": "code",
   "execution_count": 83,
   "metadata": {},
   "outputs": [],
   "source": [
    "ps.STLSQ?"
   ]
  },
  {
   "cell_type": "code",
   "execution_count": null,
   "metadata": {},
   "outputs": [],
   "source": []
  },
  {
   "cell_type": "code",
   "execution_count": null,
   "metadata": {},
   "outputs": [],
   "source": []
  },
  {
   "cell_type": "code",
   "execution_count": 84,
   "metadata": {},
   "outputs": [
    {
     "name": "stderr",
     "output_type": "stream",
     "text": [
      "C:\\Users\\rautj\\Anaconda3\\lib\\site-packages\\ipykernel_launcher.py:5: TqdmDeprecationWarning: Please use `tqdm.notebook.trange` instead of `tqdm.tnrange`\n",
      "  \"\"\"\n"
     ]
    },
    {
     "data": {
      "application/vnd.jupyter.widget-view+json": {
       "model_id": "a194620d45d74c1eaf088d614a68d156",
       "version_major": 2,
       "version_minor": 0
      },
      "text/plain": [
       "  0%|          | 0/10000 [00:00<?, ?it/s]"
      ]
     },
     "metadata": {},
     "output_type": "display_data"
    },
    {
     "data": {
      "text/plain": [
       "array([[ 23.85758601, -22.01392848]])"
      ]
     },
     "execution_count": 84,
     "metadata": {},
     "output_type": "execute_result"
    }
   ],
   "source": [
    "thres=0.0\n",
    "deg=1\n",
    "model = ps.SINDy(feature_names=[\"x\"],optimizer=ps.STLSQ(threshold=thres,normalize_columns=True),feature_library=ps.PolynomialLibrary(degree=deg))\n",
    "mcs=[]\n",
    "for i in tnrange(ninst):\n",
    "    model.fit(xs[i][:], t=t[:])\n",
    "    mc=model.coefficients()\n",
    "    mcs.append(np.copy(mc))\n",
    "\n",
    "np.average(mcs,axis=0)/np.std(mcs,axis=0)"
   ]
  },
  {
   "cell_type": "code",
   "execution_count": 85,
   "metadata": {},
   "outputs": [
    {
     "data": {
      "text/plain": [
       "(array([[19.91642167, -1.99059222]]), array([[0.83480456, 0.09042422]]))"
      ]
     },
     "execution_count": 85,
     "metadata": {},
     "output_type": "execute_result"
    }
   ],
   "source": [
    "np.average(mcs,axis=0),np.std(mcs,axis=0)"
   ]
  },
  {
   "cell_type": "code",
   "execution_count": 86,
   "metadata": {},
   "outputs": [
    {
     "name": "stdout",
     "output_type": "stream",
     "text": [
      "(x)' = 19.916 1 + -1.991 x\n"
     ]
    }
   ],
   "source": [
    "model.coefficients()[:,:]=np.average(mcs,axis=0)\n",
    "model.print()"
   ]
  },
  {
   "cell_type": "code",
   "execution_count": 87,
   "metadata": {},
   "outputs": [
    {
     "data": {
      "image/png": "[encoded data removed]",
      "text/plain": [
       "<Figure size 216x144 with 1 Axes>"
      ]
     },
     "metadata": {
      "needs_background": "light"
     },
     "output_type": "display_data"
    },
    {
     "data": {
      "image/png": "[encoded data removed]",
      "text/plain": [
       "<Figure size 216x144 with 1 Axes>"
      ]
     },
     "metadata": {
      "needs_background": "light"
     },
     "output_type": "display_data"
    }
   ],
   "source": [
    "for i in range(deg+1):\n",
    "    plt.figure(figsize=(3,2))\n",
    "    plt.title('$\\\\xi_'+str(i+1)+'$')\n",
    "    plt.hist(np.array(mcs)[:,0,:][:,i],bins=40,density=True)\n",
    "    mu=np.average(mcs,axis=0)[0,i]\n",
    "    sig=np.std(mcs,axis=0)[0,i]\n",
    "    xpdf=np.linspace(mu-4*sig,mu+4*sig,100)\n",
    "    plt.plot(xpdf,sc.stats.norm.pdf(xpdf,mu,sig))\n",
    "    plt.xlabel('Value')\n",
    "    plt.ylabel('Density')\n",
    "    plt.show()"
   ]
  },
  {
   "cell_type": "code",
   "execution_count": 88,
   "metadata": {},
   "outputs": [
    {
     "name": "stderr",
     "output_type": "stream",
     "text": [
      "C:\\Users\\rautj\\Anaconda3\\lib\\site-packages\\ipykernel_launcher.py:2: TqdmDeprecationWarning: Please use `tqdm.notebook.trange` instead of `tqdm.tnrange`\n",
      "  \n"
     ]
    },
    {
     "data": {
      "application/vnd.jupyter.widget-view+json": {
       "model_id": "618d1c97055f4543b28af6553e846523",
       "version_major": 2,
       "version_minor": 0
      },
      "text/plain": [
       "  0%|          | 0/10000 [00:00<?, ?it/s]"
      ]
     },
     "metadata": {},
     "output_type": "display_data"
    },
    {
     "data": {
      "text/plain": [
       "array([[ 24.38011151, -22.4776223 ]])"
      ]
     },
     "execution_count": 88,
     "metadata": {},
     "output_type": "execute_result"
    }
   ],
   "source": [
    "mcs=[]\n",
    "for i in tnrange(ninst):\n",
    "    mc=SINDy(polypool(xs[i][:].reshape(-1,1),deg),np.gradient(xs[i][:],10*dt).reshape(-1,1),thres,reg=0).T\n",
    "    mcs.append(np.copy(mc))\n",
    "\n",
    "np.average(mcs,axis=0)/np.std(mcs,axis=0)"
   ]
  },
  {
   "cell_type": "code",
   "execution_count": 89,
   "metadata": {},
   "outputs": [
    {
     "data": {
      "text/plain": [
       "(array([[19.91159813, -1.99006535]]), array([[0.81671481, 0.0885354 ]]))"
      ]
     },
     "execution_count": 89,
     "metadata": {},
     "output_type": "execute_result"
    }
   ],
   "source": [
    "np.average(mcs,axis=0),np.std(mcs,axis=0)"
   ]
  },
  {
   "cell_type": "code",
   "execution_count": 90,
   "metadata": {},
   "outputs": [
    {
     "name": "stdout",
     "output_type": "stream",
     "text": [
      "(x)' = 19.912 1 + -1.990 x\n"
     ]
    }
   ],
   "source": [
    "model.coefficients()[:,:]=np.average(mcs,axis=0)\n",
    "model.print()"
   ]
  },
  {
   "cell_type": "code",
   "execution_count": 91,
   "metadata": {},
   "outputs": [
    {
     "data": {
      "image/png": "[encoded data removed]",
      "text/plain": [
       "<Figure size 216x144 with 1 Axes>"
      ]
     },
     "metadata": {
      "needs_background": "light"
     },
     "output_type": "display_data"
    },
    {
     "data": {
      "image/png": "[encoded data removed]",
      "text/plain": [
       "<Figure size 216x144 with 1 Axes>"
      ]
     },
     "metadata": {
      "needs_background": "light"
     },
     "output_type": "display_data"
    }
   ],
   "source": [
    "for i in range(deg+1):\n",
    "    plt.figure(figsize=(3,2))\n",
    "    plt.title('$\\\\xi_'+str(i+1)+'$')\n",
    "    plt.hist(np.array(mcs)[:,0,:][:,i],bins=40,density=True)\n",
    "    mu=np.average(mcs,axis=0)[0,i]\n",
    "    sig=np.std(mcs,axis=0)[0,i]\n",
    "    xpdf=np.linspace(mu-4*sig,mu+4*sig,100)\n",
    "    plt.plot(xpdf,sc.stats.norm.pdf(xpdf,mu,sig))\n",
    "    plt.xlabel('Value')\n",
    "    plt.ylabel('Density')\n",
    "    plt.show()"
   ]
  },
  {
   "cell_type": "code",
   "execution_count": 92,
   "metadata": {},
   "outputs": [
    {
     "name": "stderr",
     "output_type": "stream",
     "text": [
      "C:\\Users\\rautj\\Anaconda3\\lib\\site-packages\\ipykernel_launcher.py:2: TqdmDeprecationWarning: Please use `tqdm.notebook.trange` instead of `tqdm.tnrange`\n",
      "  \n"
     ]
    },
    {
     "data": {
      "application/vnd.jupyter.widget-view+json": {
       "model_id": "a0045ff41da34a03bf963121c14ca3f5",
       "version_major": 2,
       "version_minor": 0
      },
      "text/plain": [
       "  0%|          | 0/10000 [00:00<?, ?it/s]"
      ]
     },
     "metadata": {},
     "output_type": "display_data"
    },
    {
     "data": {
      "text/plain": [
       "array([[ 21.32738995, -19.63140705]])"
      ]
     },
     "execution_count": 92,
     "metadata": {},
     "output_type": "execute_result"
    }
   ],
   "source": [
    "mcs=[]\n",
    "for i in tnrange(ninst):\n",
    "    mc=SINDyL1(xs[i][:].reshape(-1,1),polypool(xs[i][:].reshape(-1,1),deg),np.gradient(xs[i][:],10*dt).reshape(-1,1),thres,copy.deepcopy(model),reg=0).T\n",
    "    mcs.append(np.copy(mc))\n",
    "\n",
    "np.average(mcs,axis=0)/np.std(mcs,axis=0)"
   ]
  },
  {
   "cell_type": "code",
   "execution_count": 93,
   "metadata": {},
   "outputs": [
    {
     "data": {
      "text/plain": [
       "array([[19.91294507, -1.99006192]])"
      ]
     },
     "execution_count": 93,
     "metadata": {},
     "output_type": "execute_result"
    }
   ],
   "source": [
    "np.average(mcs,axis=0)"
   ]
  },
  {
   "cell_type": "code",
   "execution_count": 94,
   "metadata": {},
   "outputs": [
    {
     "name": "stdout",
     "output_type": "stream",
     "text": [
      "(x)' = 19.913 1 + -1.990 x\n"
     ]
    }
   ],
   "source": [
    "model.coefficients()[:,:]=np.average(mcs,axis=0)\n",
    "model.print()"
   ]
  },
  {
   "cell_type": "code",
   "execution_count": 95,
   "metadata": {},
   "outputs": [
    {
     "data": {
      "image/png": "[encoded data removed]",
      "text/plain": [
       "<Figure size 216x144 with 1 Axes>"
      ]
     },
     "metadata": {
      "needs_background": "light"
     },
     "output_type": "display_data"
    },
    {
     "data": {
      "image/png": "[encoded data removed]",
      "text/plain": [
       "<Figure size 216x144 with 1 Axes>"
      ]
     },
     "metadata": {
      "needs_background": "light"
     },
     "output_type": "display_data"
    }
   ],
   "source": [
    "for i in range(deg+1):\n",
    "    plt.figure(figsize=(3,2))\n",
    "    plt.title('$\\\\xi_'+str(i+1)+'$')\n",
    "    plt.hist(np.array(mcs)[:,0,:][:,i],bins=40,density=True)\n",
    "    mu=np.average(mcs,axis=0)[0,i]\n",
    "    sig=np.std(mcs,axis=0)[0,i]\n",
    "    xpdf=np.linspace(mu-4*sig,mu+4*sig,100)\n",
    "    plt.plot(xpdf,sc.stats.norm.pdf(xpdf,mu,sig))\n",
    "    plt.xlabel('Value')\n",
    "    plt.ylabel('Density')\n",
    "    plt.show()"
   ]
  },
  {
   "cell_type": "code",
   "execution_count": null,
   "metadata": {},
   "outputs": [],
   "source": []
  },
  {
   "cell_type": "code",
   "execution_count": null,
   "metadata": {},
   "outputs": [],
   "source": []
  },
  {
   "cell_type": "code",
   "execution_count": null,
   "metadata": {},
   "outputs": [],
   "source": []
  },
  {
   "cell_type": "code",
   "execution_count": 96,
   "metadata": {},
   "outputs": [
    {
     "name": "stderr",
     "output_type": "stream",
     "text": [
      "C:\\Users\\rautj\\Anaconda3\\lib\\site-packages\\ipykernel_launcher.py:5: TqdmDeprecationWarning: Please use `tqdm.notebook.trange` instead of `tqdm.tnrange`\n",
      "  \"\"\"\n"
     ]
    },
    {
     "data": {
      "application/vnd.jupyter.widget-view+json": {
       "model_id": "a4bff5925fd148b4840199d4cff52fb0",
       "version_major": 2,
       "version_minor": 0
      },
      "text/plain": [
       "  0%|          | 0/10000 [00:00<?, ?it/s]"
      ]
     },
     "metadata": {},
     "output_type": "display_data"
    },
    {
     "data": {
      "text/plain": [
       "array([[13.8239056 , -4.43283887,  0.31932418]])"
      ]
     },
     "execution_count": 96,
     "metadata": {},
     "output_type": "execute_result"
    }
   ],
   "source": [
    "thres=0.0\n",
    "deg=2\n",
    "model = ps.SINDy(feature_names=[\"x\"],optimizer=ps.STLSQ(threshold=thres,normalize_columns=True),feature_library=ps.PolynomialLibrary(degree=deg))\n",
    "mcs=[]\n",
    "for i in tnrange(ninst):\n",
    "    model.fit(xs[i][:], t=t[:])\n",
    "    mc=model.coefficients()\n",
    "    mcs.append(np.copy(mc))\n",
    "\n",
    "np.average(mcs,axis=0)/np.std(mcs,axis=0)"
   ]
  },
  {
   "cell_type": "code",
   "execution_count": 97,
   "metadata": {},
   "outputs": [
    {
     "data": {
      "text/plain": [
       "array([[ 2.03037800e+01, -2.14231064e+00,  1.15135835e-02]])"
      ]
     },
     "execution_count": 97,
     "metadata": {},
     "output_type": "execute_result"
    }
   ],
   "source": [
    "np.average(mcs,axis=0)"
   ]
  },
  {
   "cell_type": "code",
   "execution_count": 98,
   "metadata": {},
   "outputs": [
    {
     "name": "stdout",
     "output_type": "stream",
     "text": [
      "(x)' = 20.304 1 + -2.142 x + 0.012 x^2\n"
     ]
    }
   ],
   "source": [
    "model.coefficients()[:,:]=np.average(mcs,axis=0)\n",
    "model.print()"
   ]
  },
  {
   "cell_type": "code",
   "execution_count": 99,
   "metadata": {},
   "outputs": [
    {
     "data": {
      "image/png": "[encoded data removed]",
      "text/plain": [
       "<Figure size 216x144 with 1 Axes>"
      ]
     },
     "metadata": {
      "needs_background": "light"
     },
     "output_type": "display_data"
    },
    {
     "data": {
      "image/png": "[encoded data removed]",
      "text/plain": [
       "<Figure size 216x144 with 1 Axes>"
      ]
     },
     "metadata": {
      "needs_background": "light"
     },
     "output_type": "display_data"
    },
    {
     "data": {
      "image/png": "[encoded data removed]",
      "text/plain": [
       "<Figure size 216x144 with 1 Axes>"
      ]
     },
     "metadata": {
      "needs_background": "light"
     },
     "output_type": "display_data"
    }
   ],
   "source": [
    "for i in range(deg+1):\n",
    "    plt.figure(figsize=(3,2))\n",
    "    plt.title('$\\\\xi_'+str(i+1)+'$')\n",
    "    plt.hist(np.array(mcs)[:,0,:][:,i],bins=40,density=True)\n",
    "    mu=np.average(mcs,axis=0)[0,i]\n",
    "    sig=np.std(mcs,axis=0)[0,i]\n",
    "    xpdf=np.linspace(mu-4*sig,mu+4*sig,100)\n",
    "    plt.plot(xpdf,sc.stats.norm.pdf(xpdf,mu,sig))\n",
    "    plt.xlabel('Value')\n",
    "    plt.ylabel('Density')\n",
    "    plt.show()"
   ]
  },
  {
   "cell_type": "code",
   "execution_count": 100,
   "metadata": {},
   "outputs": [
    {
     "name": "stderr",
     "output_type": "stream",
     "text": [
      "C:\\Users\\rautj\\Anaconda3\\lib\\site-packages\\ipykernel_launcher.py:2: TqdmDeprecationWarning: Please use `tqdm.notebook.trange` instead of `tqdm.tnrange`\n",
      "  \n"
     ]
    },
    {
     "data": {
      "application/vnd.jupyter.widget-view+json": {
       "model_id": "614a9bee86c34b9c9190d193ff641f3c",
       "version_major": 2,
       "version_minor": 0
      },
      "text/plain": [
       "  0%|          | 0/10000 [00:00<?, ?it/s]"
      ]
     },
     "metadata": {},
     "output_type": "display_data"
    },
    {
     "data": {
      "text/plain": [
       "array([[14.58815708, -4.62497408,  0.31637684]])"
      ]
     },
     "execution_count": 100,
     "metadata": {},
     "output_type": "execute_result"
    }
   ],
   "source": [
    "mcs=[]\n",
    "for i in tnrange(ninst):\n",
    "    mc=SINDy(polypool(xs[i][:].reshape(-1,1),deg),np.gradient(xs[i][:],10*dt).reshape(-1,1),thres,reg=0).T\n",
    "    mcs.append(np.copy(mc))\n",
    "\n",
    "np.average(mcs,axis=0)/np.std(mcs,axis=0)"
   ]
  },
  {
   "cell_type": "code",
   "execution_count": 101,
   "metadata": {},
   "outputs": [
    {
     "data": {
      "text/plain": [
       "array([[ 2.02827028e+01, -2.13502394e+00,  1.09893066e-02]])"
      ]
     },
     "execution_count": 101,
     "metadata": {},
     "output_type": "execute_result"
    }
   ],
   "source": [
    "np.average(mcs,axis=0)"
   ]
  },
  {
   "cell_type": "code",
   "execution_count": 102,
   "metadata": {},
   "outputs": [
    {
     "name": "stdout",
     "output_type": "stream",
     "text": [
      "(x)' = 20.283 1 + -2.135 x + 0.011 x^2\n"
     ]
    }
   ],
   "source": [
    "model.coefficients()[:,:]=np.average(mcs,axis=0)\n",
    "model.print()"
   ]
  },
  {
   "cell_type": "code",
   "execution_count": 103,
   "metadata": {},
   "outputs": [
    {
     "data": {
      "image/png": "[encoded data removed]",
      "text/plain": [
       "<Figure size 216x144 with 1 Axes>"
      ]
     },
     "metadata": {
      "needs_background": "light"
     },
     "output_type": "display_data"
    },
    {
     "data": {
      "image/png": "[encoded data removed]",
      "text/plain": [
       "<Figure size 216x144 with 1 Axes>"
      ]
     },
     "metadata": {
      "needs_background": "light"
     },
     "output_type": "display_data"
    },
    {
     "data": {
      "image/png": "[encoded data removed]",
      "text/plain": [
       "<Figure size 216x144 with 1 Axes>"
      ]
     },
     "metadata": {
      "needs_background": "light"
     },
     "output_type": "display_data"
    }
   ],
   "source": [
    "for i in range(deg+1):\n",
    "    plt.figure(figsize=(3,2))\n",
    "    plt.title('$\\\\xi_'+str(i+1)+'$')\n",
    "    plt.hist(np.array(mcs)[:,0,:][:,i],bins=40,density=True)\n",
    "    mu=np.average(mcs,axis=0)[0,i]\n",
    "    sig=np.std(mcs,axis=0)[0,i]\n",
    "    xpdf=np.linspace(mu-4*sig,mu+4*sig,100)\n",
    "    plt.plot(xpdf,sc.stats.norm.pdf(xpdf,mu,sig))\n",
    "    plt.xlabel('Value')\n",
    "    plt.ylabel('Density')\n",
    "    plt.show()"
   ]
  },
  {
   "cell_type": "code",
   "execution_count": 104,
   "metadata": {},
   "outputs": [
    {
     "name": "stderr",
     "output_type": "stream",
     "text": [
      "C:\\Users\\rautj\\Anaconda3\\lib\\site-packages\\ipykernel_launcher.py:2: TqdmDeprecationWarning: Please use `tqdm.notebook.trange` instead of `tqdm.tnrange`\n",
      "  \n"
     ]
    },
    {
     "data": {
      "application/vnd.jupyter.widget-view+json": {
       "model_id": "b46c139efbc1484baabd3927a5cf5fcb",
       "version_major": 2,
       "version_minor": 0
      },
      "text/plain": [
       "  0%|          | 0/10000 [00:00<?, ?it/s]"
      ]
     },
     "metadata": {},
     "output_type": "display_data"
    },
    {
     "data": {
      "text/plain": [
       "array([[12.92104237, -4.09172373,  0.28199716]])"
      ]
     },
     "execution_count": 104,
     "metadata": {},
     "output_type": "execute_result"
    }
   ],
   "source": [
    "mcs=[]\n",
    "for i in tnrange(ninst):\n",
    "    mc=SINDyL1(xs[i][:].reshape(-1,1),polypool(xs[i][:].reshape(-1,1),deg),np.gradient(xs[i][:],10*dt).reshape(-1,1),thres,copy.deepcopy(model),reg=0).T\n",
    "    mcs.append(np.copy(mc))\n",
    "\n",
    "np.average(mcs,axis=0)/np.std(mcs,axis=0)"
   ]
  },
  {
   "cell_type": "code",
   "execution_count": 105,
   "metadata": {},
   "outputs": [
    {
     "data": {
      "text/plain": [
       "array([[ 2.02884564e+01, -2.13661605e+00,  1.11050898e-02]])"
      ]
     },
     "execution_count": 105,
     "metadata": {},
     "output_type": "execute_result"
    }
   ],
   "source": [
    "np.average(mcs,axis=0)"
   ]
  },
  {
   "cell_type": "code",
   "execution_count": 106,
   "metadata": {},
   "outputs": [
    {
     "name": "stdout",
     "output_type": "stream",
     "text": [
      "(x)' = 20.288 1 + -2.137 x + 0.011 x^2\n"
     ]
    }
   ],
   "source": [
    "model.coefficients()[:,:]=np.average(mcs,axis=0)\n",
    "model.print()"
   ]
  },
  {
   "cell_type": "code",
   "execution_count": 107,
   "metadata": {},
   "outputs": [
    {
     "data": {
      "image/png": "[encoded data removed]",
      "text/plain": [
       "<Figure size 216x144 with 1 Axes>"
      ]
     },
     "metadata": {
      "needs_background": "light"
     },
     "output_type": "display_data"
    },
    {
     "data": {
      "image/png": "[encoded data removed]",
      "text/plain": [
       "<Figure size 216x144 with 1 Axes>"
      ]
     },
     "metadata": {
      "needs_background": "light"
     },
     "output_type": "display_data"
    },
    {
     "data": {
      "image/png": "[encoded data removed]",
      "text/plain": [
       "<Figure size 216x144 with 1 Axes>"
      ]
     },
     "metadata": {
      "needs_background": "light"
     },
     "output_type": "display_data"
    }
   ],
   "source": [
    "for i in range(deg+1):\n",
    "    plt.figure(figsize=(3,2))\n",
    "    plt.title('$\\\\xi_'+str(i+1)+'$')\n",
    "    plt.hist(np.array(mcs)[:,0,:][:,i],bins=40,density=True)\n",
    "    mu=np.average(mcs,axis=0)[0,i]\n",
    "    sig=np.std(mcs,axis=0)[0,i]\n",
    "    xpdf=np.linspace(mu-4*sig,mu+4*sig,100)\n",
    "    plt.plot(xpdf,sc.stats.norm.pdf(xpdf,mu,sig))\n",
    "    plt.xlabel('Value')\n",
    "    plt.ylabel('Density')\n",
    "    plt.show()"
   ]
  },
  {
   "cell_type": "code",
   "execution_count": null,
   "metadata": {},
   "outputs": [],
   "source": []
  },
  {
   "cell_type": "code",
   "execution_count": null,
   "metadata": {},
   "outputs": [],
   "source": []
  },
  {
   "cell_type": "code",
   "execution_count": null,
   "metadata": {},
   "outputs": [],
   "source": []
  },
  {
   "cell_type": "code",
   "execution_count": 108,
   "metadata": {},
   "outputs": [
    {
     "name": "stderr",
     "output_type": "stream",
     "text": [
      "C:\\Users\\rautj\\Anaconda3\\lib\\site-packages\\ipykernel_launcher.py:5: TqdmDeprecationWarning: Please use `tqdm.notebook.trange` instead of `tqdm.tnrange`\n",
      "  \"\"\"\n"
     ]
    },
    {
     "data": {
      "application/vnd.jupyter.widget-view+json": {
       "model_id": "390460aa49ac4425aa9a379afde80c20",
       "version_major": 2,
       "version_minor": 0
      },
      "text/plain": [
       "  0%|          | 0/10000 [00:00<?, ?it/s]"
      ]
     },
     "metadata": {},
     "output_type": "display_data"
    },
    {
     "data": {
      "text/plain": [
       "array([[ 9.24606073, -1.1305251 , -0.40827901,  0.47013731]])"
      ]
     },
     "execution_count": 108,
     "metadata": {},
     "output_type": "execute_result"
    }
   ],
   "source": [
    "thres=0.0\n",
    "deg=3\n",
    "model = ps.SINDy(feature_names=[\"x\"],optimizer=ps.STLSQ(threshold=thres,normalize_columns=True),feature_library=ps.PolynomialLibrary(degree=deg))\n",
    "mcs=[]\n",
    "for i in tnrange(ninst):\n",
    "    model.fit(xs[i][:], t=t[:])\n",
    "    mc=model.coefficients()\n",
    "    mcs.append(np.copy(mc))\n",
    "\n",
    "np.average(mcs,axis=0)/np.std(mcs,axis=0)"
   ]
  },
  {
   "cell_type": "code",
   "execution_count": 109,
   "metadata": {},
   "outputs": [
    {
     "data": {
      "text/plain": [
       "array([[ 1.97077988e+01, -1.57167055e+00, -1.03910073e-01,  6.45709344e-03]])"
      ]
     },
     "execution_count": 109,
     "metadata": {},
     "output_type": "execute_result"
    }
   ],
   "source": [
    "np.average(mcs,axis=0)"
   ]
  },
  {
   "cell_type": "code",
   "execution_count": 110,
   "metadata": {},
   "outputs": [
    {
     "name": "stdout",
     "output_type": "stream",
     "text": [
      "(x)' = 19.708 1 + -1.572 x + -0.104 x^2 + 0.006 x^3\n"
     ]
    }
   ],
   "source": [
    "model.coefficients()[:,:]=np.average(mcs,axis=0)\n",
    "model.print()"
   ]
  },
  {
   "cell_type": "code",
   "execution_count": 111,
   "metadata": {},
   "outputs": [
    {
     "data": {
      "image/png": "[encoded data removed]",
      "text/plain": [
       "<Figure size 216x144 with 1 Axes>"
      ]
     },
     "metadata": {
      "needs_background": "light"
     },
     "output_type": "display_data"
    },
    {
     "data": {
      "image/png": "[encoded data removed]",
      "text/plain": [
       "<Figure size 216x144 with 1 Axes>"
      ]
     },
     "metadata": {
      "needs_background": "light"
     },
     "output_type": "display_data"
    },
    {
     "data": {
      "image/png": "[encoded data removed]",
      "text/plain": [
       "<Figure size 216x144 with 1 Axes>"
      ]
     },
     "metadata": {
      "needs_background": "light"
     },
     "output_type": "display_data"
    },
    {
     "data": {
      "image/png": "[encoded data removed]",
      "text/plain": [
       "<Figure size 216x144 with 1 Axes>"
      ]
     },
     "metadata": {
      "needs_background": "light"
     },
     "output_type": "display_data"
    }
   ],
   "source": [
    "for i in range(deg+1):\n",
    "    plt.figure(figsize=(3,2))\n",
    "    plt.title('$\\\\xi_'+str(i+1)+'$')\n",
    "    plt.hist(np.array(mcs)[:,0,:][:,i],bins=40,density=True)\n",
    "    mu=np.average(mcs,axis=0)[0,i]\n",
    "    sig=np.std(mcs,axis=0)[0,i]\n",
    "    xpdf=np.linspace(mu-4*sig,mu+4*sig,100)\n",
    "    plt.plot(xpdf,sc.stats.norm.pdf(xpdf,mu,sig))\n",
    "    plt.xlabel('Value')\n",
    "    plt.ylabel('Density')\n",
    "    plt.show()"
   ]
  },
  {
   "cell_type": "code",
   "execution_count": 112,
   "metadata": {},
   "outputs": [
    {
     "name": "stderr",
     "output_type": "stream",
     "text": [
      "C:\\Users\\rautj\\Anaconda3\\lib\\site-packages\\ipykernel_launcher.py:2: TqdmDeprecationWarning: Please use `tqdm.notebook.trange` instead of `tqdm.tnrange`\n",
      "  \n"
     ]
    },
    {
     "data": {
      "application/vnd.jupyter.widget-view+json": {
       "model_id": "f95ee4f709184d3d9c9968fb13bcc7ee",
       "version_major": 2,
       "version_minor": 0
      },
      "text/plain": [
       "  0%|          | 0/10000 [00:00<?, ?it/s]"
      ]
     },
     "metadata": {},
     "output_type": "display_data"
    },
    {
     "data": {
      "text/plain": [
       "array([[10.17614339, -1.20533096, -0.45752258,  0.51744596]])"
      ]
     },
     "execution_count": 112,
     "metadata": {},
     "output_type": "execute_result"
    }
   ],
   "source": [
    "mcs=[]\n",
    "for i in tnrange(ninst):\n",
    "    mc=SINDy(polypool(xs[i][:].reshape(-1,1),deg),np.gradient(xs[i][:],10*dt).reshape(-1,1),thres,reg=0).T\n",
    "    mcs.append(np.copy(mc))\n",
    "\n",
    "np.average(mcs,axis=0)/np.std(mcs,axis=0)"
   ]
  },
  {
   "cell_type": "code",
   "execution_count": 113,
   "metadata": {},
   "outputs": [
    {
     "data": {
      "text/plain": [
       "array([[ 1.96631983e+01, -1.54294215e+00, -1.08750527e-01,  6.69882977e-03]])"
      ]
     },
     "execution_count": 113,
     "metadata": {},
     "output_type": "execute_result"
    }
   ],
   "source": [
    "np.average(mcs,axis=0)"
   ]
  },
  {
   "cell_type": "code",
   "execution_count": 114,
   "metadata": {},
   "outputs": [
    {
     "name": "stdout",
     "output_type": "stream",
     "text": [
      "(x)' = 19.663 1 + -1.543 x + -0.109 x^2 + 0.007 x^3\n"
     ]
    }
   ],
   "source": [
    "model.coefficients()[:,:]=np.average(mcs,axis=0)\n",
    "model.print()"
   ]
  },
  {
   "cell_type": "code",
   "execution_count": 115,
   "metadata": {},
   "outputs": [
    {
     "data": {
      "image/png": "[encoded data removed]",
      "text/plain": [
       "<Figure size 216x144 with 1 Axes>"
      ]
     },
     "metadata": {
      "needs_background": "light"
     },
     "output_type": "display_data"
    },
    {
     "data": {
      "image/png": "[encoded data removed]",
      "text/plain": [
       "<Figure size 216x144 with 1 Axes>"
      ]
     },
     "metadata": {
      "needs_background": "light"
     },
     "output_type": "display_data"
    },
    {
     "data": {
      "image/png": "[encoded data removed]",
      "text/plain": [
       "<Figure size 216x144 with 1 Axes>"
      ]
     },
     "metadata": {
      "needs_background": "light"
     },
     "output_type": "display_data"
    },
    {
     "data": {
      "image/png": "[encoded data removed]",
      "text/plain": [
       "<Figure size 216x144 with 1 Axes>"
      ]
     },
     "metadata": {
      "needs_background": "light"
     },
     "output_type": "display_data"
    }
   ],
   "source": [
    "for i in range(deg+1):\n",
    "    plt.figure(figsize=(3,2))\n",
    "    plt.title('$\\\\xi_'+str(i+1)+'$')\n",
    "    plt.hist(np.array(mcs)[:,0,:][:,i],bins=40,density=True)\n",
    "    mu=np.average(mcs,axis=0)[0,i]\n",
    "    sig=np.std(mcs,axis=0)[0,i]\n",
    "    xpdf=np.linspace(mu-4*sig,mu+4*sig,100)\n",
    "    plt.plot(xpdf,sc.stats.norm.pdf(xpdf,mu,sig))\n",
    "    plt.xlabel('Value')\n",
    "    plt.ylabel('Density')\n",
    "    plt.show()"
   ]
  },
  {
   "cell_type": "code",
   "execution_count": 116,
   "metadata": {},
   "outputs": [
    {
     "name": "stderr",
     "output_type": "stream",
     "text": [
      "C:\\Users\\rautj\\Anaconda3\\lib\\site-packages\\ipykernel_launcher.py:2: TqdmDeprecationWarning: Please use `tqdm.notebook.trange` instead of `tqdm.tnrange`\n",
      "  \n"
     ]
    },
    {
     "data": {
      "application/vnd.jupyter.widget-view+json": {
       "model_id": "2c1591ff05764b38afa6d29a90e2f74e",
       "version_major": 2,
       "version_minor": 0
      },
      "text/plain": [
       "  0%|          | 0/10000 [00:00<?, ?it/s]"
      ]
     },
     "metadata": {},
     "output_type": "display_data"
    },
    {
     "data": {
      "text/plain": [
       "array([[ 9.3328576 , -1.11683719, -0.41575024,  0.46739814]])"
      ]
     },
     "execution_count": 116,
     "metadata": {},
     "output_type": "execute_result"
    }
   ],
   "source": [
    "mcs=[]\n",
    "for i in tnrange(ninst):\n",
    "    mc=SINDyL1(xs[i][:].reshape(-1,1),polypool(xs[i][:].reshape(-1,1),deg),np.gradient(xs[i][:],10*dt).reshape(-1,1),thres,copy.deepcopy(model),reg=0).T\n",
    "    mcs.append(np.copy(mc))\n",
    "\n",
    "np.average(mcs,axis=0)/np.std(mcs,axis=0)"
   ]
  },
  {
   "cell_type": "code",
   "execution_count": 117,
   "metadata": {},
   "outputs": [
    {
     "data": {
      "text/plain": [
       "array([[ 1.96647020e+01, -1.54770356e+00, -1.07574903e-01,  6.62925914e-03]])"
      ]
     },
     "execution_count": 117,
     "metadata": {},
     "output_type": "execute_result"
    }
   ],
   "source": [
    "np.average(mcs,axis=0)"
   ]
  },
  {
   "cell_type": "code",
   "execution_count": 118,
   "metadata": {},
   "outputs": [
    {
     "name": "stdout",
     "output_type": "stream",
     "text": [
      "(x)' = 19.665 1 + -1.548 x + -0.108 x^2 + 0.007 x^3\n"
     ]
    }
   ],
   "source": [
    "model.coefficients()[:,:]=np.average(mcs,axis=0)\n",
    "model.print()"
   ]
  },
  {
   "cell_type": "code",
   "execution_count": 119,
   "metadata": {},
   "outputs": [
    {
     "data": {
      "image/png": "[encoded data removed]",
      "text/plain": [
       "<Figure size 216x144 with 1 Axes>"
      ]
     },
     "metadata": {
      "needs_background": "light"
     },
     "output_type": "display_data"
    },
    {
     "data": {
      "image/png": "[encoded data removed]",
      "text/plain": [
       "<Figure size 216x144 with 1 Axes>"
      ]
     },
     "metadata": {
      "needs_background": "light"
     },
     "output_type": "display_data"
    },
    {
     "data": {
      "image/png": "[encoded data removed]",
      "text/plain": [
       "<Figure size 216x144 with 1 Axes>"
      ]
     },
     "metadata": {
      "needs_background": "light"
     },
     "output_type": "display_data"
    },
    {
     "data": {
      "image/png": "[encoded data removed]",
      "text/plain": [
       "<Figure size 216x144 with 1 Axes>"
      ]
     },
     "metadata": {
      "needs_background": "light"
     },
     "output_type": "display_data"
    }
   ],
   "source": [
    "for i in range(deg+1):\n",
    "    plt.figure(figsize=(3,2))\n",
    "    plt.title('$\\\\xi_'+str(i+1)+'$')\n",
    "    plt.hist(np.array(mcs)[:,0,:][:,i],bins=40,density=True)\n",
    "    mu=np.average(mcs,axis=0)[0,i]\n",
    "    sig=np.std(mcs,axis=0)[0,i]\n",
    "    xpdf=np.linspace(mu-4*sig,mu+4*sig,100)\n",
    "    plt.plot(xpdf,sc.stats.norm.pdf(xpdf,mu,sig))\n",
    "    plt.xlabel('Value')\n",
    "    plt.ylabel('Density')\n",
    "    plt.show()"
   ]
  },
  {
   "cell_type": "code",
   "execution_count": null,
   "metadata": {},
   "outputs": [],
   "source": []
  },
  {
   "cell_type": "code",
   "execution_count": 120,
   "metadata": {},
   "outputs": [],
   "source": [
    "#maybe re demo effect with an instance of overfit model as og model"
   ]
  },
  {
   "cell_type": "code",
   "execution_count": null,
   "metadata": {},
   "outputs": [],
   "source": []
  },
  {
   "cell_type": "code",
   "execution_count": null,
   "metadata": {},
   "outputs": [],
   "source": []
  },
  {
   "cell_type": "code",
   "execution_count": null,
   "metadata": {},
   "outputs": [],
   "source": []
  },
  {
   "cell_type": "code",
   "execution_count": 121,
   "metadata": {},
   "outputs": [
    {
     "name": "stderr",
     "output_type": "stream",
     "text": [
      "C:\\Users\\rautj\\Anaconda3\\lib\\site-packages\\ipykernel_launcher.py:5: TqdmDeprecationWarning: Please use `tqdm.notebook.trange` instead of `tqdm.tnrange`\n",
      "  \"\"\"\n"
     ]
    },
    {
     "data": {
      "application/vnd.jupyter.widget-view+json": {
       "model_id": "539031cc36334494b2b5d13d38681772",
       "version_major": 2,
       "version_minor": 0
      },
      "text/plain": [
       "  0%|          | 0/10000 [00:00<?, ?it/s]"
      ]
     },
     "metadata": {},
     "output_type": "display_data"
    },
    {
     "data": {
      "text/plain": [
       "array([[ 5.55674794, -0.14224591, -0.31098624,  0.39931644, -0.47873654,  0.55080907]])"
      ]
     },
     "execution_count": 121,
     "metadata": {},
     "output_type": "execute_result"
    }
   ],
   "source": [
    "thres=0.0\n",
    "deg=5\n",
    "model = ps.SINDy(feature_names=[\"x\"],optimizer=ps.STLSQ(threshold=thres,normalize_columns=True),feature_library=ps.PolynomialLibrary(degree=deg))\n",
    "mcs=[]\n",
    "for i in tnrange(ninst):\n",
    "    model.fit(xs[i][:], t=t[:])\n",
    "    mc=model.coefficients()\n",
    "    mcs.append(np.copy(mc))\n",
    "\n",
    "np.average(mcs,axis=0)/np.std(mcs,axis=0)"
   ]
  },
  {
   "cell_type": "code",
   "execution_count": 122,
   "metadata": {},
   "outputs": [
    {
     "data": {
      "text/plain": [
       "array([[ 1.98022987e+01, -8.12906503e-01, -8.93431679e-01,  2.42254505e-01, -2.72040163e-02,  1.07536799e-03]])"
      ]
     },
     "execution_count": 122,
     "metadata": {},
     "output_type": "execute_result"
    }
   ],
   "source": [
    "np.average(mcs,axis=0)"
   ]
  },
  {
   "cell_type": "code",
   "execution_count": 123,
   "metadata": {},
   "outputs": [
    {
     "data": {
      "text/plain": [
       "array([[3.56364890e+00, 5.71479692e+00, 2.87289778e+00, 6.06673009e-01, 5.68246087e-02, 1.95234256e-03]])"
      ]
     },
     "execution_count": 123,
     "metadata": {},
     "output_type": "execute_result"
    }
   ],
   "source": [
    "np.std(mcs,axis=0)"
   ]
  },
  {
   "cell_type": "code",
   "execution_count": 124,
   "metadata": {},
   "outputs": [
    {
     "name": "stdout",
     "output_type": "stream",
     "text": [
      "(x)' = 19.802 1 + -0.813 x + -0.893 x^2 + 0.242 x^3 + -0.027 x^4 + 0.001 x^5\n"
     ]
    }
   ],
   "source": [
    "model.coefficients()[:,:]=np.average(mcs,axis=0)\n",
    "model.print()"
   ]
  },
  {
   "cell_type": "code",
   "execution_count": 125,
   "metadata": {},
   "outputs": [
    {
     "data": {
      "image/png": "[encoded data removed]",
      "text/plain": [
       "<Figure size 216x144 with 1 Axes>"
      ]
     },
     "metadata": {
      "needs_background": "light"
     },
     "output_type": "display_data"
    },
    {
     "data": {
      "image/png": "[encoded data removed]",
      "text/plain": [
       "<Figure size 216x144 with 1 Axes>"
      ]
     },
     "metadata": {
      "needs_background": "light"
     },
     "output_type": "display_data"
    },
    {
     "data": {
      "image/png": "[encoded data removed]",
      "text/plain": [
       "<Figure size 216x144 with 1 Axes>"
      ]
     },
     "metadata": {
      "needs_background": "light"
     },
     "output_type": "display_data"
    },
    {
     "data": {
      "image/png": "[encoded data removed]",
      "text/plain": [
       "<Figure size 216x144 with 1 Axes>"
      ]
     },
     "metadata": {
      "needs_background": "light"
     },
     "output_type": "display_data"
    },
    {
     "data": {
      "image/png": "[encoded data removed]",
      "text/plain": [
       "<Figure size 216x144 with 1 Axes>"
      ]
     },
     "metadata": {
      "needs_background": "light"
     },
     "output_type": "display_data"
    },
    {
     "data": {
      "image/png": "[encoded data removed]",
      "text/plain": [
       "<Figure size 216x144 with 1 Axes>"
      ]
     },
     "metadata": {
      "needs_background": "light"
     },
     "output_type": "display_data"
    }
   ],
   "source": [
    "for i in range(deg+1):\n",
    "    plt.figure(figsize=(3,2))\n",
    "    plt.title('$\\\\xi_'+str(i+1)+'$')\n",
    "    plt.hist(np.array(mcs)[:,0,:][:,i],bins=40,density=True)\n",
    "    mu=np.average(mcs,axis=0)[0,i]\n",
    "    sig=np.std(mcs,axis=0)[0,i]\n",
    "    xpdf=np.linspace(mu-4*sig,mu+4*sig,100)\n",
    "    plt.plot(xpdf,sc.stats.norm.pdf(xpdf,mu,sig))\n",
    "    plt.xlabel('Value')\n",
    "    plt.ylabel('Density')\n",
    "    plt.show()"
   ]
  },
  {
   "cell_type": "code",
   "execution_count": 126,
   "metadata": {},
   "outputs": [
    {
     "name": "stderr",
     "output_type": "stream",
     "text": [
      "C:\\Users\\rautj\\Anaconda3\\lib\\site-packages\\ipykernel_launcher.py:2: TqdmDeprecationWarning: Please use `tqdm.notebook.trange` instead of `tqdm.tnrange`\n",
      "  \n"
     ]
    },
    {
     "data": {
      "application/vnd.jupyter.widget-view+json": {
       "model_id": "a3216afaf2d14e4fa41e3321a581c3d5",
       "version_major": 2,
       "version_minor": 0
      },
      "text/plain": [
       "  0%|          | 0/10000 [00:00<?, ?it/s]"
      ]
     },
     "metadata": {},
     "output_type": "display_data"
    },
    {
     "data": {
      "text/plain": [
       "array([[12.49188073, -2.2783465 , -0.14370113, -0.47161814, -0.43017641,  0.8192429 ]])"
      ]
     },
     "execution_count": 126,
     "metadata": {},
     "output_type": "execute_result"
    }
   ],
   "source": [
    "mcs=[]\n",
    "for i in tnrange(ninst):\n",
    "    mc=SINDy(polypool(xs[i][:].reshape(-1,1),deg),np.gradient(xs[i][:],10*dt).reshape(-1,1),thres,reg=0.01).T\n",
    "    mcs.append(np.copy(mc))\n",
    "\n",
    "np.average(mcs,axis=0)/np.std(mcs,axis=0)"
   ]
  },
  {
   "cell_type": "code",
   "execution_count": 127,
   "metadata": {},
   "outputs": [
    {
     "data": {
      "text/plain": [
       "array([[ 1.96398140e+01, -1.73974330e+00, -1.52946472e-02, -2.91408248e-03, -2.62578765e-04,  4.89638135e-05]])"
      ]
     },
     "execution_count": 127,
     "metadata": {},
     "output_type": "execute_result"
    }
   ],
   "source": [
    "np.average(mcs,axis=0)"
   ]
  },
  {
   "cell_type": "code",
   "execution_count": 128,
   "metadata": {},
   "outputs": [
    {
     "data": {
      "text/plain": [
       "array([[1.57220634e+00, 7.63599086e-01, 1.06433730e-01, 6.17890249e-03, 6.10397872e-04, 5.97671504e-05]])"
      ]
     },
     "execution_count": 128,
     "metadata": {},
     "output_type": "execute_result"
    }
   ],
   "source": [
    "np.std(mcs,axis=0)"
   ]
  },
  {
   "cell_type": "code",
   "execution_count": 129,
   "metadata": {},
   "outputs": [
    {
     "name": "stdout",
     "output_type": "stream",
     "text": [
      "(x)' = 19.640 1 + -1.740 x + -0.015 x^2 + -0.003 x^3\n"
     ]
    }
   ],
   "source": [
    "model.coefficients()[:,:]=np.average(mcs,axis=0)\n",
    "model.print()"
   ]
  },
  {
   "cell_type": "code",
   "execution_count": 130,
   "metadata": {},
   "outputs": [
    {
     "data": {
      "image/png": "[encoded data removed]",
      "text/plain": [
       "<Figure size 216x144 with 1 Axes>"
      ]
     },
     "metadata": {
      "needs_background": "light"
     },
     "output_type": "display_data"
    },
    {
     "data": {
      "image/png": "[encoded data removed]",
      "text/plain": [
       "<Figure size 216x144 with 1 Axes>"
      ]
     },
     "metadata": {
      "needs_background": "light"
     },
     "output_type": "display_data"
    },
    {
     "data": {
      "image/png": "[encoded data removed]",
      "text/plain": [
       "<Figure size 216x144 with 1 Axes>"
      ]
     },
     "metadata": {
      "needs_background": "light"
     },
     "output_type": "display_data"
    },
    {
     "data": {
      "image/png": "[encoded data removed]",
      "text/plain": [
       "<Figure size 216x144 with 1 Axes>"
      ]
     },
     "metadata": {
      "needs_background": "light"
     },
     "output_type": "display_data"
    },
    {
     "data": {
      "image/png": "[encoded data removed]",
      "text/plain": [
       "<Figure size 216x144 with 1 Axes>"
      ]
     },
     "metadata": {
      "needs_background": "light"
     },
     "output_type": "display_data"
    },
    {
     "data": {
      "image/png": "[encoded data removed]",
      "text/plain": [
       "<Figure size 216x144 with 1 Axes>"
      ]
     },
     "metadata": {
      "needs_background": "light"
     },
     "output_type": "display_data"
    }
   ],
   "source": [
    "for i in range(deg+1):\n",
    "    plt.figure(figsize=(3,2))\n",
    "    plt.title('$\\\\xi_'+str(i+1)+'$')\n",
    "    plt.hist(np.array(mcs)[:,0,:][:,i],bins=40,density=True)\n",
    "    mu=np.average(mcs,axis=0)[0,i]\n",
    "    sig=np.std(mcs,axis=0)[0,i]\n",
    "    xpdf=np.linspace(mu-4*sig,mu+4*sig,100)\n",
    "    plt.plot(xpdf,sc.stats.norm.pdf(xpdf,mu,sig))\n",
    "    plt.xlabel('Value')\n",
    "    plt.ylabel('Density')\n",
    "    plt.show()"
   ]
  },
  {
   "cell_type": "code",
   "execution_count": null,
   "metadata": {},
   "outputs": [],
   "source": []
  },
  {
   "cell_type": "code",
   "execution_count": 131,
   "metadata": {},
   "outputs": [
    {
     "data": {
      "text/plain": [
       "[8.05011372, -1.00472092, -0.36979479, 0.43113216]"
      ]
     },
     "execution_count": 131,
     "metadata": {},
     "output_type": "execute_result"
    }
   ],
   "source": [
    "[ 8.05011372, -1.00472092, -0.36979479,  0.43113216]"
   ]
  },
  {
   "cell_type": "code",
   "execution_count": 132,
   "metadata": {},
   "outputs": [
    {
     "name": "stderr",
     "output_type": "stream",
     "text": [
      "C:\\Users\\rautj\\Anaconda3\\lib\\site-packages\\ipykernel_launcher.py:4: TqdmDeprecationWarning: Please use `tqdm.notebook.trange` instead of `tqdm.tnrange`\n",
      "  after removing the cwd from sys.path.\n"
     ]
    },
    {
     "data": {
      "application/vnd.jupyter.widget-view+json": {
       "model_id": "6b81110663e842e98d4719ff23011d96",
       "version_major": 2,
       "version_minor": 0
      },
      "text/plain": [
       "  0%|          | 0/9999 [00:00<?, ?it/s]"
      ]
     },
     "metadata": {},
     "output_type": "display_data"
    }
   ],
   "source": [
    "stax=xs[0][:]\n",
    "staxdot=np.gradient(xs[0,:],10*dt)\n",
    "#stat=t[:]\n",
    "for i in tnrange(1,ninst):\n",
    "    stax=np.hstack((stax,xs[i][:]))\n",
    "    staxdot=np.hstack((staxdot,np.gradient(xs[i,:],10*dt)))\n",
    "    #stat=np.hstack((stat,t[:]))"
   ]
  },
  {
   "cell_type": "code",
   "execution_count": 133,
   "metadata": {},
   "outputs": [
    {
     "name": "stdout",
     "output_type": "stream",
     "text": [
      "(x)' = 19.416 1 + -1.336 x + -0.155 x^2 + 0.010 x^3\n"
     ]
    }
   ],
   "source": [
    "thres=0.0\n",
    "deg=3\n",
    "model = ps.SINDy(feature_names=[\"x\"],optimizer=ps.STLSQ(threshold=thres,normalize_columns=True),feature_library=ps.PolynomialLibrary(degree=deg))\n",
    "model.fit(stax,t=np.arange(len(stax)),x_dot=staxdot)\n",
    "model.print()"
   ]
  },
  {
   "cell_type": "code",
   "execution_count": 134,
   "metadata": {},
   "outputs": [
    {
     "name": "stdout",
     "output_type": "stream",
     "text": [
      "(x)' = 19.416 1 + -1.336 x + -0.155 x^2 + 0.010 x^3\n"
     ]
    }
   ],
   "source": [
    "model.coefficients()[:,:]=SINDy(polypool(stax.reshape(-1,1),deg),staxdot.reshape(-1,1),thres,reg=0.0).T\n",
    "model.print()"
   ]
  },
  {
   "cell_type": "code",
   "execution_count": 135,
   "metadata": {},
   "outputs": [
    {
     "data": {
      "text/plain": [
       "array([14.39421273, -1.45597618, -0.89951777,  1.01021316])"
      ]
     },
     "execution_count": 135,
     "metadata": {},
     "output_type": "execute_result"
    }
   ],
   "source": [
    "sigsq=np.sum((model.predict(stax.reshape(-1,1))-staxdot.reshape(-1,1))**2)/len(stax)\n",
    "covinv=np.linalg.inv((polypool(xs[0][:].reshape(-1,1),deg).T@polypool(xs[0][:].reshape(-1,1),deg)))\n",
    "#covinv=(polypool(xs[0][:].reshape(-1,1),deg).T@polypool(xs[0][:].reshape(-1,1),deg))\n",
    "cov=sigsq*covinv\n",
    "model.coefficients()[0]/np.sqrt(np.diag(cov))"
   ]
  },
  {
   "cell_type": "code",
   "execution_count": 136,
   "metadata": {},
   "outputs": [
    {
     "data": {
      "text/plain": [
       "array([ 2.46076972e+00, -1.83721474e-02, -2.20840617e-04,  1.38597256e-06])"
      ]
     },
     "execution_count": 136,
     "metadata": {},
     "output_type": "execute_result"
    }
   ],
   "source": [
    "covinv=(polypool(xs[0][:].reshape(-1,1),deg).T@polypool(xs[0][:].reshape(-1,1),deg))\n",
    "cov=(1/sigsq)*covinv\n",
    "model.coefficients()[0]/np.sqrt(np.diag(cov))"
   ]
  },
  {
   "cell_type": "code",
   "execution_count": null,
   "metadata": {},
   "outputs": [],
   "source": []
  }
 ],
 "metadata": {
  "kernelspec": {
   "display_name": "Python 3 (ipykernel)",
   "language": "python",
   "name": "python3"
  },
  "language_info": {
   "codemirror_mode": {
    "name": "ipython",
    "version": 3
   },
   "file_extension": ".py",
   "mimetype": "text/x-python",
   "name": "python",
   "nbconvert_exporter": "python",
   "pygments_lexer": "ipython3",
   "version": "3.7.12"
  }
 },
 "nbformat": 4,
 "nbformat_minor": 2
}
